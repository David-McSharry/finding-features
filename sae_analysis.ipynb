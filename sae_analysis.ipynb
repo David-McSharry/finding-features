{
 "cells": [
  {
   "cell_type": "code",
   "execution_count": 1,
   "metadata": {},
   "outputs": [
    {
     "name": "stderr",
     "output_type": "stream",
     "text": [
      "/tmp/ipykernel_1761288/4229106113.py:11: DeprecationWarning: `magic(...)` is deprecated since IPython 0.13 (warning added in 8.1), use run_line_magic(magic_name, parameter_s).\n",
      "  ipython.magic(\"load_ext autoreload\")\n",
      "/tmp/ipykernel_1761288/4229106113.py:12: DeprecationWarning: `magic(...)` is deprecated since IPython 0.13 (warning added in 8.1), use run_line_magic(magic_name, parameter_s).\n",
      "  ipython.magic(\"autoreload 2\")\n"
     ]
    },
    {
     "data": {
      "text/plain": [
       "<All keys matched successfully>"
      ]
     },
     "execution_count": 1,
     "metadata": {},
     "output_type": "execute_result"
    }
   ],
   "source": [
    "from transformer_model import Transformer\n",
    "import torch as t\n",
    "import numpy as np\n",
    "from models import SAE\n",
    "import lovely_tensors as lt\n",
    "from models import SAE\n",
    "from losses import SAE_Loss\n",
    "\n",
    "from IPython import get_ipython\n",
    "ipython = get_ipython()\n",
    "ipython.magic(\"load_ext autoreload\")\n",
    "ipython.magic(\"autoreload 2\")\n",
    "\n",
    "\n",
    "lt.monkey_patch()\n",
    "\n",
    "lr=1e-3 #@param\n",
    "weight_decay = 0.00001 #@param\n",
    "p=113 #@param\n",
    "d_model = 128 #@param\n",
    "\n",
    "num_epochs = 300 #@param\n",
    "# Stop training when test loss is <stopping_thresh\n",
    "num_layers = 3\n",
    "d_vocab = p+2\n",
    "n_ctx = 5\n",
    "d_mlp = 4*d_model\n",
    "num_heads = 4\n",
    "assert d_model % num_heads == 0\n",
    "d_head = d_model//num_heads\n",
    "act_type = 'ReLU' #@param ['ReLU', 'GeLU']\n",
    "# batch_size = 512\n",
    "use_ln = False\n",
    "random_answers = np.random.randint(low=0, high=p, size=(p, p))\n",
    "\n",
    "\n",
    "model = Transformer(num_layers=num_layers, d_vocab=d_vocab, d_model=d_model, d_mlp=d_mlp, d_head=d_head, num_heads=num_heads, n_ctx=n_ctx, act_type=act_type, use_cache=False, use_ln=use_ln).to('cuda')\n",
    "model.load_state_dict(t.load('transformer.pth'))\n"
   ]
  },
  {
   "cell_type": "code",
   "execution_count": 2,
   "metadata": {},
   "outputs": [
    {
     "name": "stdout",
     "output_type": "stream",
     "text": [
      "Memory Allocated: 4532224 bytes\n",
      "Memory Allocated: 4532224 bytes\n",
      "Memory Allocated: 8232384000 bytes\n",
      "torch.Size([51076, 128])\n"
     ]
    }
   ],
   "source": [
    "dataset = []\n",
    "\n",
    "for a in range(p):\n",
    "    for b in range(p):\n",
    "        for x in range(2):\n",
    "            for y in range(2):\n",
    "                dataset.append((a,b,x,y,113))\n",
    "\n",
    "dataset = t.tensor(dataset).to('cuda')\n",
    "\n",
    "print(f'Memory Allocated: {t.cuda.memory_allocated()} bytes')\n",
    "\n",
    "\n",
    "cache = {}\n",
    "model.cache_all(cache)\n",
    "\n",
    "print(f'Memory Allocated: {t.cuda.memory_allocated()} bytes')\n",
    "\n",
    "_ = model(dataset)\n",
    "\n",
    "print(f'Memory Allocated: {t.cuda.memory_allocated()} bytes')\n",
    "\n",
    "resid_post_activations = [cache[f'blocks.{i}.hook_resid_post'][:, -1] for i in range(len(model.blocks))]\n",
    "\n",
    "print(resid_post_activations[0].shape)"
   ]
  },
  {
   "cell_type": "code",
   "execution_count": 3,
   "metadata": {},
   "outputs": [
    {
     "ename": "NameError",
     "evalue": "name 'resid_post_activations' is not defined",
     "output_type": "error",
     "traceback": [
      "\u001b[0;31m---------------------------------------------------------------------------\u001b[0m",
      "\u001b[0;31mNameError\u001b[0m                                 Traceback (most recent call last)",
      "Cell \u001b[0;32mIn[3], line 31\u001b[0m\n\u001b[1;32m     25\u001b[0m sparsity \u001b[38;5;241m=\u001b[39m []\n\u001b[1;32m     26\u001b[0m dead_neurons_per_epoch \u001b[38;5;241m=\u001b[39m []\n\u001b[1;32m     30\u001b[0m dataloader \u001b[38;5;241m=\u001b[39m t\u001b[38;5;241m.\u001b[39mutils\u001b[38;5;241m.\u001b[39mdata\u001b[38;5;241m.\u001b[39mDataLoader(\n\u001b[0;32m---> 31\u001b[0m     \u001b[43mresid_post_activations\u001b[49m[\u001b[38;5;241m0\u001b[39m],\n\u001b[1;32m     32\u001b[0m     batch_size\u001b[38;5;241m=\u001b[39m\u001b[38;5;241m512\u001b[39m,\n\u001b[1;32m     33\u001b[0m     shuffle\u001b[38;5;241m=\u001b[39m\u001b[38;5;28;01mTrue\u001b[39;00m,\n\u001b[1;32m     34\u001b[0m )\n\u001b[1;32m     36\u001b[0m model\u001b[38;5;241m.\u001b[39mremove_all_hooks()\n\u001b[1;32m     38\u001b[0m \u001b[38;5;28;01mfor\u001b[39;00m epoch \u001b[38;5;129;01min\u001b[39;00m \u001b[38;5;28mrange\u001b[39m(\u001b[38;5;241m500\u001b[39m):\n",
      "\u001b[0;31mNameError\u001b[0m: name 'resid_post_activations' is not defined"
     ]
    }
   ],
   "source": [
    "import matplotlib.pyplot as plt\n",
    "\n",
    "SAE_config = {\n",
    "    'num_features': d_model * 4,\n",
    "}\n",
    "\n",
    "# autoencoder\n",
    "sae = SAE(\n",
    "    input_size = d_model,\n",
    "    n_dict_components = d_model * 4\n",
    ").to('cuda')\n",
    "\n",
    "# combination of L1 and mse loss\n",
    "sae_loss = SAE_Loss(\n",
    "    l1_weight=1e-1,\n",
    ")\n",
    "\n",
    "sae_optimizer = t.optim.Adam(\n",
    "    sae.parameters(),\n",
    "    lr=lr,\n",
    "    weight_decay=weight_decay,\n",
    ")\n",
    "\n",
    "losses = []\n",
    "sparsity = []\n",
    "dead_neurons_per_epoch = []\n",
    "\n",
    "\n",
    "\n",
    "dataloader = t.utils.data.DataLoader(\n",
    "    resid_post_activations[0],\n",
    "    batch_size=512,\n",
    "    shuffle=True,\n",
    ")\n",
    "\n",
    "model.remove_all_hooks()\n",
    "\n",
    "for epoch in range(500):\n",
    "\n",
    "    latent_dim = sae.n_dict_components\n",
    "    activation_counts = t.zeros(latent_dim, dtype=t.long).cuda()\n",
    "\n",
    "    for i, batch_activations in enumerate(dataloader):\n",
    "        sae_optimizer.zero_grad()\n",
    "        x_hat, z = sae(batch_activations)\n",
    "        loss = sae_loss(\n",
    "            feature_values=z,\n",
    "            target_activations=batch_activations,\n",
    "            reconstructed_activations=x_hat\n",
    "        )\n",
    "\n",
    "        loss.backward()\n",
    "\n",
    "        sae_optimizer.step()\n",
    "\n",
    "        losses.append(loss.item())\n",
    "        # sparsity is the number of zero activations in the latent space\n",
    "        # get sparsity by finding the average number of zero in the z batch along dim 1\n",
    "        sparsity.append((z == 0).float().mean().item())\n",
    "        activation_counts += (z > 0).sum(dim=0).long()\n",
    "\n",
    "    # Count dead neurons (those that have zero activations throughout the epoch)\n",
    "    dead_neurons = (activation_counts == 0).sum().item()\n",
    "    dead_neurons_ratio = dead_neurons / latent_dim\n",
    "    dead_neurons_per_epoch.append(dead_neurons_ratio)\n",
    "\n",
    "\n",
    "\n",
    "t.save(sae.state_dict(), 'sae.pth')\n",
    "\n",
    "# mark point with dot\n",
    "plt.plot(losses)\n",
    "# labels\n",
    "plt.xlabel('Batch')\n",
    "plt.ylabel('Loss')\n",
    "plt.yscale('log')\n",
    "plt.show()\n",
    "\n",
    "\n",
    "plt.plot(sparsity)\n",
    "plt.xlabel('Batch')\n",
    "plt.ylabel('Sparsity')\n",
    "plt.show()\n",
    "\n",
    "plt.plot(dead_neurons_per_epoch)\n",
    "plt.xlabel('Epoch')\n",
    "plt.ylabel('Dead Neurons')\n",
    "plt.show()\n",
    "\n",
    "\n"
   ]
  },
  {
   "cell_type": "code",
   "execution_count": 2,
   "metadata": {},
   "outputs": [
    {
     "name": "stdout",
     "output_type": "stream",
     "text": [
      "Accuracy: 0.3168807327747345\n",
      "Accuracy: 0.9878416657447815\n"
     ]
    }
   ],
   "source": [
    "# load sae\n",
    "sae = SAE(\n",
    "    input_size = d_model,\n",
    "    n_dict_components = d_model * 4\n",
    ").to('cuda')\n",
    "\n",
    "dataset = []\n",
    "for a in range(p):\n",
    "    for b in range(p):\n",
    "        for x in range(2):\n",
    "            for y in range(2):\n",
    "                dataset.append((a,b,x,y,113))\n",
    "\n",
    "dataset = t.tensor(dataset).to('cuda')\n",
    "\n",
    "sae.load_state_dict(t.load('sae.pth'))\n",
    "\n",
    "\n",
    "def hook_fn_sae(activations, name='replace_activations_with_reconstruction'):\n",
    "    x_hat, z = sae(activations)\n",
    "    return x_hat\n",
    "\n",
    "\n",
    "# model.remove_all_hooks()\n",
    "model.remove_all_hooks()\n",
    "model.blocks[0].hook_resid_post.add_hook(hook_fn_sae)\n",
    "\n",
    "correct_answers = (dataset[:, 0] + dataset[:, 1]) % 113 + t.bitwise_xor(dataset[:, 2], dataset[:, 3])\n",
    "\n",
    "\n",
    "output_logits = model(dataset)[:, -1]\n",
    "\n",
    "predicted_answers = output_logits.argmax(dim=-1)\n",
    "\n",
    "correct = (predicted_answers == correct_answers).float().mean().item()\n",
    "print(f'Accuracy: {correct}')\n",
    "\n",
    "model.remove_all_hooks()\n",
    "\n",
    "output_logits = model(dataset)[:, -1]\n",
    "\n",
    "predicted_answers = output_logits.argmax(dim=-1)\n",
    "\n",
    "correct = (predicted_answers == correct_answers).float().mean().item()\n",
    "\n",
    "print(f'Accuracy: {correct}')\n",
    "\n",
    "\n"
   ]
  },
  {
   "cell_type": "code",
   "execution_count": 3,
   "metadata": {},
   "outputs": [],
   "source": [
    "sae = SAE(\n",
    "    input_size = d_model,\n",
    "    n_dict_components = d_model * 4\n",
    ").to('cuda')\n",
    "\n",
    "sae.load_state_dict(t.load('sae.pth'))\n",
    "\n",
    "data_set = []\n",
    "for a in range(p):\n",
    "    for b in range(p):\n",
    "        for x in range(2):\n",
    "            for y in range(2):\n",
    "                data_set.append((a,b,x,y,113))\n",
    "\n",
    "data_set = t.tensor(data_set).to('cuda')\n",
    "\n",
    "_, z = sae(resid_post_activations[0])\n",
    "\n",
    "xor_bits = t.bitwise_xor(data_set[:, 2], data_set[:, 3])\n",
    "\n",
    "\n",
    "\n",
    "\n"
   ]
  },
  {
   "cell_type": "code",
   "execution_count": 13,
   "metadata": {},
   "outputs": [
    {
     "ename": "AttributeError",
     "evalue": "'numpy.ndarray' object has no attribute 'detach'",
     "output_type": "error",
     "traceback": [
      "\u001b[0;31m---------------------------------------------------------------------------\u001b[0m",
      "\u001b[0;31mAttributeError\u001b[0m                            Traceback (most recent call last)",
      "Cell \u001b[0;32mIn[13], line 14\u001b[0m\n\u001b[1;32m     12\u001b[0m \u001b[38;5;66;03m# Calculate Pearson correlation for each component\u001b[39;00m\n\u001b[1;32m     13\u001b[0m \u001b[38;5;28;01mfor\u001b[39;00m i \u001b[38;5;129;01min\u001b[39;00m \u001b[38;5;28mrange\u001b[39m(rep_dim):\n\u001b[0;32m---> 14\u001b[0m     correlation_coefficients[i], _ \u001b[38;5;241m=\u001b[39m pearsonr(\u001b[43mz\u001b[49m\u001b[43m[\u001b[49m\u001b[43m:\u001b[49m\u001b[43m,\u001b[49m\u001b[43m \u001b[49m\u001b[43mi\u001b[49m\u001b[43m]\u001b[49m\u001b[38;5;241;43m.\u001b[39;49m\u001b[43mdetach\u001b[49m()\u001b[38;5;241m.\u001b[39mcpu()\u001b[38;5;241m.\u001b[39mnumpy(), xor_bits\u001b[38;5;241m.\u001b[39mcpu()\u001b[38;5;241m.\u001b[39mnumpy())\n\u001b[1;32m     16\u001b[0m \u001b[38;5;66;03m# correlation_coefficients now contains the Pearson correlation coefficient for each component\u001b[39;00m\n\u001b[1;32m     17\u001b[0m \u001b[38;5;66;03m# plot the correlation coefficients bar graph\u001b[39;00m\n\u001b[1;32m     18\u001b[0m plt\u001b[38;5;241m.\u001b[39mbar(\u001b[38;5;28mrange\u001b[39m(rep_dim), correlation_coefficients)\n",
      "\u001b[0;31mAttributeError\u001b[0m: 'numpy.ndarray' object has no attribute 'detach'"
     ]
    }
   ],
   "source": [
    "import matplotlib.pyplot as plt\n",
    "import numpy as np\n",
    "from scipy.stats import pearsonr\n",
    "\n",
    "# Assuming z is your representation matrix of size [batch_num, rep_dim]\n",
    "# and y is your binary label vector of size [batch_num]\n",
    "batch_num, rep_dim = z.shape\n",
    "\n",
    "# Initialize an array to store the correlation coefficients\n",
    "correlation_coefficients = np.zeros(rep_dim)\n",
    "\n",
    "# Calculate Pearson correlation for each component\n",
    "for i in range(rep_dim):\n",
    "    correlation_coefficients[i], _ = pearsonr(z[:, i].detach().cpu().numpy(), xor_bits.cpu().numpy())\n",
    "\n",
    "# correlation_coefficients now contains the Pearson correlation coefficient for each component\n",
    "# plot the correlation coefficients bar graph\n",
    "plt.bar(range(rep_dim), correlation_coefficients)\n",
    "plt.xlabel('Component')\n",
    "plt.ylabel('Pearson correlation')\n",
    "plt.show()\n",
    "\n",
    "# nan to zero then get argmax\n",
    "correlation_coefficients[np.isnan(correlation_coefficients)] = 0\n",
    "most_correlated_component = correlation_coefficients.argmax()\n",
    "\n",
    "print(f'Most correlated component: {most_correlated_component}')\n",
    "\n",
    "\n",
    "# top 5 most correlated components\n",
    "most_correlated_components = correlation_coefficients.argsort()[-5:][::-1]\n"
   ]
  },
  {
   "cell_type": "code",
   "execution_count": 14,
   "metadata": {},
   "outputs": [
    {
     "data": {
      "image/png": "[encoded data removed]",
      "text/plain": [
       "<Figure size 640x480 with 1 Axes>"
      ]
     },
     "metadata": {},
     "output_type": "display_data"
    },
    {
     "data": {
      "image/png": "[encoded data removed]",
      "text/plain": [
       "<Figure size 640x480 with 1 Axes>"
      ]
     },
     "metadata": {},
     "output_type": "display_data"
    },
    {
     "data": {
      "image/png": "[encoded data removed]",
      "text/plain": [
       "<Figure size 640x480 with 1 Axes>"
      ]
     },
     "metadata": {},
     "output_type": "display_data"
    },
    {
     "data": {
      "image/png": "[encoded data removed]",
      "text/plain": [
       "<Figure size 640x480 with 1 Axes>"
      ]
     },
     "metadata": {},
     "output_type": "display_data"
    },
    {
     "data": {
      "image/png": "[encoded data removed]",
      "text/plain": [
       "<Figure size 640x480 with 1 Axes>"
      ]
     },
     "metadata": {},
     "output_type": "display_data"
    }
   ],
   "source": [
    "import numpy as np\n",
    "import matplotlib.pyplot as plt\n",
    "\n",
    "# Example data\n",
    "# z = z.detach().cpu().numpy()\n",
    "# xor_bits = xor_bits.cpu().numpy()\n",
    "\n",
    "for i in most_correlated_components:\n",
    "    z_xor = z[:, i]\n",
    "\n",
    "    # Values with xor_bit 0 and 1\n",
    "    z_xor_0 = z_xor[xor_bits == 0]\n",
    "    z_xor_1 = z_xor[xor_bits == 1]\n",
    "\n",
    "    # Define bins: one for zero, one for greater than zero\n",
    "    bins = [0, 1e-15, 1e-10, 1e-5, 1e-3, 1e-1, np.max(z_xor) + 1]\n",
    "\n",
    "    # Plot histograms\n",
    "    plt.hist(z_xor_0, bins=bins, color='blue', alpha=0.5, label='xor_bit=0')\n",
    "    plt.hist(z_xor_1, bins=bins, color='red', alpha=0.5, label='xor_bit=1')\n",
    "    plt.xscale('log')\n",
    "    plt.legend()\n",
    "    plt.show()\n"
   ]
  },
  {
   "cell_type": "code",
   "execution_count": 35,
   "metadata": {},
   "outputs": [
    {
     "name": "stdout",
     "output_type": "stream",
     "text": [
      "Adding data with properties: 1000 processes, 3 samples, 1 replications\n",
      "overwriting existing data\n"
     ]
    },
    {
     "ename": "RuntimeError",
     "evalue": "Estimator I_G not found.",
     "output_type": "error",
     "traceback": [
      "\u001b[0;31m---------------------------------------------------------------------------\u001b[0m",
      "\u001b[0;31mRuntimeError\u001b[0m                              Traceback (most recent call last)",
      "Cell \u001b[0;32mIn[35], line 34\u001b[0m\n\u001b[1;32m     31\u001b[0m pid \u001b[38;5;241m=\u001b[39m MultivariatePID()\n\u001b[1;32m     33\u001b[0m \u001b[38;5;66;03m# Run PID analysis\u001b[39;00m\n\u001b[0;32m---> 34\u001b[0m pid_results \u001b[38;5;241m=\u001b[39m \u001b[43mpid\u001b[49m\u001b[38;5;241;43m.\u001b[39;49m\u001b[43manalyse_single_target\u001b[49m\u001b[43m(\u001b[49m\u001b[43msettings\u001b[49m\u001b[38;5;241;43m=\u001b[39;49m\u001b[43msettings\u001b[49m\u001b[43m,\u001b[49m\u001b[43m \u001b[49m\u001b[43mdata\u001b[49m\u001b[38;5;241;43m=\u001b[39;49m\u001b[43mdata_idtxl\u001b[49m\u001b[43m,\u001b[49m\u001b[43m \u001b[49m\u001b[43mtarget\u001b[49m\u001b[38;5;241;43m=\u001b[39;49m\u001b[38;5;241;43m2\u001b[39;49m\u001b[43m,\u001b[49m\u001b[43m \u001b[49m\u001b[43msources\u001b[49m\u001b[38;5;241;43m=\u001b[39;49m\u001b[43m[\u001b[49m\u001b[38;5;241;43m0\u001b[39;49m\u001b[43m,\u001b[49m\u001b[43m \u001b[49m\u001b[38;5;241;43m1\u001b[39;49m\u001b[43m]\u001b[49m\u001b[43m)\u001b[49m\n\u001b[1;32m     36\u001b[0m \u001b[38;5;66;03m# Extract synergy\u001b[39;00m\n\u001b[1;32m     37\u001b[0m synergy \u001b[38;5;241m=\u001b[39m pid_results[\u001b[38;5;124m'\u001b[39m\u001b[38;5;124mSI\u001b[39m\u001b[38;5;124m'\u001b[39m][\u001b[38;5;241m0\u001b[39m, \u001b[38;5;241m1\u001b[39m]\n",
      "File \u001b[0;32m/vol/bitbucket/dm2223/sae-experiments/venv/lib/python3.10/site-packages/idtxl/multivariate_pid.py:207\u001b[0m, in \u001b[0;36mMultivariatePID.analyse_single_target\u001b[0;34m(self, settings, data, target, sources)\u001b[0m\n\u001b[1;32m    155\u001b[0m \u001b[38;5;250m\u001b[39m\u001b[38;5;124;03m\"\"\"Estimate partial information decomposition for a network node.\u001b[39;00m\n\u001b[1;32m    156\u001b[0m \n\u001b[1;32m    157\u001b[0m \u001b[38;5;124;03mEstimate partial information decomposition (PID) for multiple source\u001b[39;00m\n\u001b[0;32m   (...)\u001b[0m\n\u001b[1;32m    204\u001b[0m \u001b[38;5;124;03m    ResultsPID()\u001b[39;00m\n\u001b[1;32m    205\u001b[0m \u001b[38;5;124;03m\"\"\"\u001b[39;00m\n\u001b[1;32m    206\u001b[0m \u001b[38;5;66;03m# Check input and initialise values for analysis.\u001b[39;00m\n\u001b[0;32m--> 207\u001b[0m \u001b[38;5;28;43mself\u001b[39;49m\u001b[38;5;241;43m.\u001b[39;49m\u001b[43m_initialise\u001b[49m\u001b[43m(\u001b[49m\u001b[43msettings\u001b[49m\u001b[43m,\u001b[49m\u001b[43m \u001b[49m\u001b[43mdata\u001b[49m\u001b[43m,\u001b[49m\u001b[43m \u001b[49m\u001b[43mtarget\u001b[49m\u001b[43m,\u001b[49m\u001b[43m \u001b[49m\u001b[43msources\u001b[49m\u001b[43m)\u001b[49m\n\u001b[1;32m    209\u001b[0m \u001b[38;5;66;03m# Estimate PID and significance.\u001b[39;00m\n\u001b[1;32m    210\u001b[0m \u001b[38;5;28mself\u001b[39m\u001b[38;5;241m.\u001b[39m_calculate_pid(data)\n",
      "File \u001b[0;32m/vol/bitbucket/dm2223/sae-experiments/venv/lib/python3.10/site-packages/idtxl/multivariate_pid.py:228\u001b[0m, in \u001b[0;36mMultivariatePID._initialise\u001b[0;34m(self, settings, data, target, sources)\u001b[0m\n\u001b[1;32m    226\u001b[0m \u001b[38;5;66;03m# Check requested PID estimator.\u001b[39;00m\n\u001b[1;32m    227\u001b[0m \u001b[38;5;28;01massert\u001b[39;00m \u001b[38;5;124m\"\u001b[39m\u001b[38;5;124mpid_estimator\u001b[39m\u001b[38;5;124m\"\u001b[39m \u001b[38;5;129;01min\u001b[39;00m settings, \u001b[38;5;124m\"\u001b[39m\u001b[38;5;124mEstimator was not specified!\u001b[39m\u001b[38;5;124m\"\u001b[39m\n\u001b[0;32m--> 228\u001b[0m \u001b[38;5;28mself\u001b[39m\u001b[38;5;241m.\u001b[39m_pid_estimator \u001b[38;5;241m=\u001b[39m \u001b[43mget_estimator\u001b[49m\u001b[43m(\u001b[49m\u001b[43msettings\u001b[49m\u001b[43m[\u001b[49m\u001b[38;5;124;43m\"\u001b[39;49m\u001b[38;5;124;43mpid_estimator\u001b[39;49m\u001b[38;5;124;43m\"\u001b[39;49m\u001b[43m]\u001b[49m\u001b[43m,\u001b[49m\u001b[43m \u001b[49m\u001b[43msettings\u001b[49m\u001b[43m)\u001b[49m\n\u001b[1;32m    230\u001b[0m \u001b[38;5;28mself\u001b[39m\u001b[38;5;241m.\u001b[39msettings \u001b[38;5;241m=\u001b[39m settings\u001b[38;5;241m.\u001b[39mcopy()\n\u001b[1;32m    231\u001b[0m \u001b[38;5;28mself\u001b[39m\u001b[38;5;241m.\u001b[39msettings\u001b[38;5;241m.\u001b[39msetdefault(\u001b[38;5;124m\"\u001b[39m\u001b[38;5;124mlags_pid\u001b[39m\u001b[38;5;124m\"\u001b[39m, [\u001b[38;5;241m1\u001b[39m \u001b[38;5;28;01mfor\u001b[39;00m i \u001b[38;5;129;01min\u001b[39;00m \u001b[38;5;28mrange\u001b[39m(\u001b[38;5;28mlen\u001b[39m(sources))])\n",
      "File \u001b[0;32m/vol/bitbucket/dm2223/sae-experiments/venv/lib/python3.10/site-packages/idtxl/estimator.py:106\u001b[0m, in \u001b[0;36mget_estimator\u001b[0;34m(est, settings)\u001b[0m\n\u001b[1;32m    103\u001b[0m     \u001b[38;5;28;01mreturn\u001b[39;00m MPIEstimator(est, settings_mpi)\n\u001b[1;32m    105\u001b[0m \u001b[38;5;66;03m# Otherwise find Estimator and return instance\u001b[39;00m\n\u001b[0;32m--> 106\u001b[0m EstimatorClass \u001b[38;5;241m=\u001b[39m \u001b[43m_find_estimator\u001b[49m\u001b[43m(\u001b[49m\u001b[43mest\u001b[49m\u001b[43m)\u001b[49m\n\u001b[1;32m    108\u001b[0m \u001b[38;5;28;01mreturn\u001b[39;00m EstimatorClass(settings)\n",
      "File \u001b[0;32m/vol/bitbucket/dm2223/sae-experiments/venv/lib/python3.10/site-packages/idtxl/estimator.py:70\u001b[0m, in \u001b[0;36m_find_estimator\u001b[0;34m(est)\u001b[0m\n\u001b[1;32m     68\u001b[0m             \u001b[38;5;28;01mpass\u001b[39;00m\n\u001b[1;32m     69\u001b[0m     \u001b[38;5;28;01mif\u001b[39;00m \u001b[38;5;129;01mnot\u001b[39;00m estimator:\n\u001b[0;32m---> 70\u001b[0m         \u001b[38;5;28;01mraise\u001b[39;00m \u001b[38;5;167;01mRuntimeError\u001b[39;00m(\u001b[38;5;124m\"\u001b[39m\u001b[38;5;124mEstimator \u001b[39m\u001b[38;5;132;01m{0}\u001b[39;00m\u001b[38;5;124m not found.\u001b[39m\u001b[38;5;124m\"\u001b[39m\u001b[38;5;241m.\u001b[39mformat(est))\n\u001b[1;32m     71\u001b[0m \u001b[38;5;28;01melse\u001b[39;00m:\n\u001b[1;32m     72\u001b[0m     \u001b[38;5;28;01mraise\u001b[39;00m \u001b[38;5;167;01mTypeError\u001b[39;00m(\n\u001b[1;32m     73\u001b[0m         \u001b[38;5;124m\"\u001b[39m\u001b[38;5;124mPlease provide an estimator class or the name of an \u001b[39m\u001b[38;5;124m\"\u001b[39m\n\u001b[1;32m     74\u001b[0m         \u001b[38;5;124m\"\u001b[39m\u001b[38;5;124mestimator as string.\u001b[39m\u001b[38;5;124m\"\u001b[39m\n\u001b[1;32m     75\u001b[0m     )\n",
      "\u001b[0;31mRuntimeError\u001b[0m: Estimator I_G not found."
     ]
    }
   ],
   "source": [
    "import numpy as np\n",
    "import pandas as pd\n",
    "from sklearn.preprocessing import KBinsDiscretizer\n",
    "from idtxl.multivariate_pid import MultivariatePID\n",
    "from idtxl.data import Data\n",
    "\n",
    "\n",
    "\n",
    "# Example data: binary variables X1, X2 and continuous variable Y\n",
    "X1 = np.random.randint(0, 2, 1000)\n",
    "X2 = np.random.randint(0, 2, 1000)\n",
    "Y = np.random.randn(1000)  # continuous variable\n",
    "\n",
    "# Discretize the continuous target variable Y\n",
    "kbin = KBinsDiscretizer(n_bins=3, encode='ordinal', strategy='uniform')\n",
    "Y_discretized = kbin.fit_transform(Y.reshape(-1, 1)).flatten()\n",
    "\n",
    "# Combine the variables into a single dataset\n",
    "data = np.vstack([X1, X2, Y_discretized]).T\n",
    "data = pd.DataFrame(data, columns=['X1', 'X2', 'Y'])\n",
    "\n",
    "# Convert data to IDTxl Data object\n",
    "data_idtxl = Data(data.values, dim_order='ps')\n",
    "\n",
    "# Define PID settings\n",
    "settings = {\n",
    "    'pid_estimator': 'BROJA'  # Using the BROJA method for PID\n",
    "}\n",
    "\n",
    "# Initialize the PID object\n",
    "pid = MultivariatePID()\n",
    "\n",
    "# Run PID analysis\n",
    "pid_results = pid.analyse_single_target(settings=settings, data=data_idtxl, target=2, sources=[0, 1])\n",
    "\n",
    "# Extract synergy\n",
    "synergy = pid_results['SI'][0, 1]\n",
    "\n",
    "print(\"Synergistic information:\", synergy)\n"
   ]
  }
 ],
 "metadata": {
  "kernelspec": {
   "display_name": "venv",
   "language": "python",
   "name": "python3"
  },
  "language_info": {
   "codemirror_mode": {
    "name": "ipython",
    "version": 3
   },
   "file_extension": ".py",
   "mimetype": "text/x-python",
   "name": "python",
   "nbconvert_exporter": "python",
   "pygments_lexer": "ipython3",
   "version": "3.10.12"
  }
 },
 "nbformat": 4,
 "nbformat_minor": 2
}
